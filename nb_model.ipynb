{
 "metadata": {
  "language_info": {
   "codemirror_mode": {
    "name": "ipython",
    "version": 3
   },
   "file_extension": ".py",
   "mimetype": "text/x-python",
   "name": "python",
   "nbconvert_exporter": "python",
   "pygments_lexer": "ipython3",
   "version": 3
  },
  "orig_nbformat": 2,
  "kernelspec": {
   "name": "python_defaultSpec_1596171578736",
   "display_name": "Python 3.8.3 64-bit"
  }
 },
 "nbformat": 4,
 "nbformat_minor": 2,
 "cells": [
  {
   "cell_type": "code",
   "execution_count": 23,
   "metadata": {
    "tags": []
   },
   "outputs": [
    {
     "output_type": "stream",
     "name": "stdout",
     "text": "text  fake_news\n0      Donald Trump just couldn t wish all Americans ...          1\n1      House Intelligence Committee Chairman Devin Nu...          1\n2      On Friday, it was revealed that former Milwauk...          1\n3      On Christmas day, Donald Trump announced that ...          1\n4      Pope Francis used his annual Christmas Day mes...          1\n...                                                  ...        ...\n44864  NATO allies on Tuesday welcomed President Dona...          0\n44865  LexisNexis, a provider of legal, regulatory an...          0\n44866  In the shadow of disused Soviet-era factories ...          0\n44867  Vatican Secretary of State Cardinal Pietro Par...          0\n44868  Indonesia will buy 11 Sukhoi fighter jets wort...          0\n\n[44869 rows x 2 columns]\n"
    }
   ],
   "source": [
    "# import pandas module\n",
    "import pandas as pd\n",
    "# import cleaned dataframe\n",
    "df = pd.read_csv(\"cleaned_news.csv\")\n",
    "df.head()\n",
    "print(df)"
   ]
  },
  {
   "cell_type": "code",
   "execution_count": null,
   "metadata": {
    "tags": []
   },
   "outputs": [],
   "source": [
    "# split the data\n",
    "DV = \"fake_news\" # the dependent variable, text is the independent variable here\n",
    "X = df.drop([DV], axis = 1) # drop from our X array because this is the text data that gets trained\n",
    "y = df[DV] # 0 is real, 1 is fake news // this is the dependent variable\n",
    "\n",
    "# train on 75% of the dataset and test on the remaining 25%\n",
    "from sklearn.model_selection import train_test_split\n",
    "# we train on 75% of the data, test on the rest\n",
    "X_train, X_test, y_train, y_test = train_test_split(X, y, test_size=0.25)\n",
    "\n"
   ]
  },
  {
   "cell_type": "code",
   "execution_count": 36,
   "metadata": {
    "tags": []
   },
   "outputs": [],
   "source": [
    "from sklearn.feature_extraction.text import CountVectorizer\n",
    "\n",
    "count_vect = CountVectorizer(max_features = 5000)# limiting to 5000 unique words, but room to play with this here!\n",
    "X_train_counts = count_vect.fit_transform(X_train[\"text\"]) \n",
    "# print(count_vect.vocabulary_) # here is our bag of words! \n",
    "X_test = count_vect.transform(X_test[\"text\"]) # note: we don't fit it to the model! Or else this is all useless\n",
    "\n",
    "#print(X_train_counts) # prints the document number, term number, and how frequent the term appears\n",
    "#print(X_test)"
   ]
  },
  {
   "cell_type": "code",
   "execution_count": null,
   "metadata": {
    "tags": []
   },
   "outputs": [],
   "source": [
    "\n",
    "# What is the probability a particular word appears given that the article is true?\n",
    "# This is in part determined by the probability that the news article is true (or fake) given that a particular word exists in it. \n",
    "# This is repeated for every unique word in our vocabulary. \n",
    "# The summation from all of these calculations and division by a normalization constant assigns the article to be real or not based on the result (a probability).\n",
    "from sklearn.naive_bayes import MultinomialNB\n",
    "# fit the training dataset on the NB classifier\n",
    "Naive = MultinomialNB()\n",
    "Naive.fit(X_train_counts, y_train)\n",
    "\n",
    "# have the model make predictions on the testing portion of the data and take a look at how accurate it is using a handy sklearn tool called accuracy_score\n",
    "from sklearn.metrics import accuracy_score\n",
    "# predict the labels on validation dataset\n",
    "predictions_NB = Naive.predict(X_test)\n",
    "# Use accuracy_score function to get the accuracy\n",
    "# very accurate bc of assumption of independence!\n",
    "print(\"Accuracy Score:\", accuracy_score(predictions_NB, y_test)*100) # test against its DV (y_test) (or fake/real news)\n"
   ]
  },
  {
   "cell_type": "code",
   "execution_count": null,
   "metadata": {
    "tags": []
   },
   "outputs": [],
   "source": [
    "# real life article prediction\n",
    "# link: https://entertainment.theonion.com/drake-fans-accuse-kenny-chesney-of-manipulating-billboa-1843484082\n",
    "onion = [\"\"\"Calling the country singer’s place at the top of Top 200 completely illegitimate, fans of the rapper–singer Drake took to social media Friday to accuse Kenny Chesney of manipulating Billboard’s algorithm by putting effort into his album. “It’s just unfair that this guy could keep Drake from his rightful place on the charts by putting out quality music that he actually cares about,” said Aiden Howard, 14, who echoed the sentiments of Drake fans worldwide in his assertion that the artist’s mediocre B-sides deserved more acclaim and recognition. “He clearly gamed the streaming numbers when he decided to put time and energy into his craft. It’s such horseshit that Billboard rewards that behavior and punishes Drizzy for making a half-assed mixtape full of songs he’d already dropped on SoundCloud. How the hell is ‘Toosie Slide’ going to compare to a song that the artist thought about for more than 15 minutes?” At press time, Drake released a statement asking fans to ignore Kenny Chesney and focus on the horseshit that he just released.\"\"\"]\n",
    "\n",
    "onion_vec = count_vect.transform(onion)\n",
    "predict_onion = Naive.predict(onion_vec)\n",
    "print(predict_onion) # if 1 is printed, it is fake news\n"
   ]
  },
  {
   "cell_type": "code",
   "execution_count": null,
   "metadata": {
    "tags": []
   },
   "outputs": [],
   "source": [
    "# link: https://www.nytimes.com/2020/05/16/us/politics/linick-investigation-pompeo.html?action=click&module=Top%20Stories&pgtype=Homepage\n",
    "nyt = [\"\"\"Two top congressional Democrats opened an investigation on Saturday into President Trump’s removal of \n",
    "          Steve A. Linick, who led the office of the inspector general at the State Department, citing a pattern \n",
    "          of “politically-motivated firing of inspectors general.” Mr. Trump told Speaker Nancy Pelosi late \n",
    "          Friday night that he was ousting Mr. Linick, who was named by President Barack Obama to the State \n",
    "          Department post, and replacing him with an ambassador with close ties to Vice President Mike Pence in \n",
    "          the latest purge of inspectors general whom Mr. Trump has deemed insufficiently loyal to his \n",
    "          administration. In letters to the White House, State Department, and Mr. Linick, Representative Eliot \n",
    "          L. Engel of New York, the chairman of the House Foreign Affairs Committee, and Senator Bob Menendez of \n",
    "          New Jersey, the top Democrat on the Senate Foreign Relations Committee, requested that the administration\n",
    "          turn over records and information related to the firing of Mr. Linick as well as “records of all I.G. \n",
    "          investigations involving the Office of the Secretary that were open, pending, or incomplete at the \n",
    "          time of Mr. Linick’s firing.” Mr. Engel and Mr. Menendez said in their letters that they believe \n",
    "          Secretary of State Mike Pompeo recommended Mr. Linick’s ouster because he had opened an investigation \n",
    "          into Mr. Pompeo’s conduct. The lawmakers did not provide any more details, but a Democratic aide said \n",
    "          that Mr. Linick had been looking into whether Mr. Pompeo had misused a political appointee at the State \n",
    "          Department to perform personal tasks for himself and his wife. “Such an action, transparently designed to\n",
    "          protect Secretary Pompeo from personal accountability, would undermine the foundation of our democratic \n",
    "          institutions and may be an illegal act of retaliation,” the lawmakers wrote. Under law, the administration\n",
    "          must notify Congress 30 days before formally terminating an inspector general. Mr. Linick is expected to \n",
    "          leave his post then. Mr. Trump’s decision to remove Mr. Linick is the latest in a series of ousters aimed\n",
    "          at inspectors general who the president and his allies believe are opposed to his agenda. In May, Mr. \n",
    "          Trump moved to oust Christi A. Grimm, the principal deputy inspector general for the Department of Health\n",
    "          and Human Services, whose office had issued a report revealing the dire state of the nation’s response to\n",
    "          the pathogen. He has also taken steps to remove two other inspectors general, for the intelligence\n",
    "          community and for the Defense Department. Mr. Linick was spotlighted during the impeachment inquiry when \n",
    "          he requested an urgent meeting with congressional staff members to give them copies of documents related \n",
    "          to the State Department and Ukraine, signaling they could be relevant to the House investigation into \n",
    "          whether President Trump pressured Ukraine to investigate former Vice President Joseph R. Biden Jr. and \n",
    "          his son Hunter Biden. The documents — a record of contacts between Rudolph W. Giuliani, the president’s \n",
    "          personal lawyer, and Ukrainian prosecutors, as well as accounts of Ukrainian law enforcement proceedings \n",
    "          — turned out to be largely inconsequential.\"\"\"]\n",
    "\n",
    "nyt_vec = count_vect.transform(nyt)\n",
    "predict_nyt = Naive.predict(nyt_vec)\n",
    "print(predict_nyt)"
   ]
  },
  {
   "cell_type": "code",
   "execution_count": 45,
   "metadata": {},
   "outputs": [],
   "source": [
    "# function summarizing the modeling\n",
    "# only parameter is a list object containing the text in the news story\n",
    "def classifier(text):\n",
    "    Naive = MultinomialNB()\n",
    "    Naive.fit(X_train_counts, y_train)\n",
    "    \n",
    "    # n.b: you may need to wrap the argument in brackets to make it a   vector if you passed in a string\n",
    "    word_vec = count_vect.transform(text) \n",
    "    \n",
    "    predict = Naive.predict(word_vec)\n",
    "    return \"Fake News Story\" if predict[0] else \"Real News Story\"\n"
   ]
  },
  {
   "cell_type": "code",
   "execution_count": 47,
   "metadata": {
    "tags": []
   },
   "outputs": [
    {
     "output_type": "stream",
     "name": "stdout",
     "text": "NYT: Real News Story\nOnion: Fake News Story\n"
    }
   ],
   "source": [
    "print(\"NYT: \" + classifier(nyt))\n",
    "print(\"Onion: \" + classifier(onion))"
   ]
  }
 ]
}